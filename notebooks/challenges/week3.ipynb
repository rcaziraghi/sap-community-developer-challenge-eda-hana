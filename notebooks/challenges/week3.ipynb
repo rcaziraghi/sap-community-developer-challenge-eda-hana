{
 "cells": [
  {
   "cell_type": "markdown",
   "id": "b7bf3f9d-41f5-4bb5-aab8-2e1c10c5bdc9",
   "metadata": {},
   "source": [
    "This is a notebook for the Week 3 of the Developer Challenge: https://blogs.sap.com/2023/03/08/sap-community-developer-challenge-eda-with-sap-hana-and-python/\n",
    "\n",
    "Some code might be incomplete or incorrect. It is your task to fix it and execute the whole notebook receiving correct results.\n",
    "\n",
    "Submit the link to your solution: https://groups.community.sap.com/t5/application-development/submissions-for-quot-eda-with-sap-hana-quot-developer-challenge/m-p/225900/highlight/true#M1181"
   ]
  },
  {
   "cell_type": "markdown",
   "id": "bff2cf8d-ca40-4718-8e43-31b62f74581e",
   "metadata": {},
   "source": [
    "## Initialize the notebook\n",
    "\n",
    "Import required packages"
   ]
  },
  {
   "cell_type": "code",
   "execution_count": null,
   "id": "bf33b581-4619-41cc-8f78-63238a49e7a6",
   "metadata": {},
   "outputs": [],
   "source": [
    "from hana_ml import dataframe as hdf\n",
    "import pandas as pd"
   ]
  },
  {
   "cell_type": "markdown",
   "id": "de6be667-feaf-4aab-87dd-18138f4def76",
   "metadata": {},
   "source": [
    "Connect to SAP HANA database instance with a database user, same as during Week 2!"
   ]
  },
  {
   "cell_type": "code",
   "execution_count": null,
   "id": "97d8f2ea-35a4-49a8-8d80-9ee0b845a12a",
   "metadata": {},
   "outputs": [],
   "source": [
    "myconn=hdf.ConnectionContext(userkey='DevChallenger')\n",
    "print(\"SAP HANA DB version: \", myconn.hana_ver())"
   ]
  },
  {
   "cell_type": "code",
   "execution_count": null,
   "id": "b7960758-ec60-4303-b900-468874174b88",
   "metadata": {},
   "outputs": [],
   "source": [
    "print(myconn.sql(\"SELECT NOW() FROM DUMMY\").collect().CURRENT_TIMESTAMP[0])"
   ]
  },
  {
   "cell_type": "markdown",
   "id": "c726d83d-f22e-4502-a011-85c543f4bea7",
   "metadata": {},
   "source": [
    "## Check tables from Week 2 are available for this week's exercises\n",
    "\n",
    "You should see these 3 tables listed: `BIKES`, `MONTHS`, `SEASONS`. If not, then please complete [the Week 2](https://github.com/SAP-samples/sap-community-developer-challenge-eda-hana/blob/main/notebooks/challenges/week2.ipynb) first."
   ]
  },
  {
   "cell_type": "code",
   "execution_count": null,
   "id": "9c49f16a-ebe1-462f-86bc-d7785d413fc0",
   "metadata": {},
   "outputs": [],
   "source": [
    "myconn.get_tables()"
   ]
  },
  {
   "cell_type": "markdown",
   "id": "1c824543-552a-4be5-ae64-ed6a98cee9fe",
   "metadata": {},
   "source": [
    "Previous week you created HANA DataFrame `bikes_hdf` at the moment of loading a CSV file. \n",
    "\n",
    "Now the table with data should already exist in your SAP HANA database, so you use [the `table()` method](https://help.sap.com/doc/cd94b08fe2e041c2ba778374572ddba9/2022_4_QRC/en-US/hana_ml.dataframe.html#hana_ml.dataframe.ConnectionContext.table) this time to create a HANA DataFrame from an existing database table. "
   ]
  },
  {
   "cell_type": "code",
   "execution_count": null,
   "id": "f3849144-78dd-4899-b970-18d8c4cc03d0",
   "metadata": {},
   "outputs": [],
   "source": [
    "bikes_hdf=myconn.table('BICYCLES')"
   ]
  },
  {
   "cell_type": "code",
   "execution_count": null,
   "id": "9011b914-f988-4059-a926-f006173e1425",
   "metadata": {},
   "outputs": [],
   "source": [
    "bikes_hdf.select_statement"
   ]
  },
  {
   "cell_type": "markdown",
   "id": "25b46fa6-ad3d-4670-8e18-e8b133ddb6b0",
   "metadata": {},
   "source": [
    "## 1. Understand the dataset\n",
    "\n",
    "Before you understand the data, you need to understand the dataset: what kind of data is stores and its size."
   ]
  },
  {
   "cell_type": "code",
   "execution_count": null,
   "id": "8c3f816f-3bbf-4f34-aebf-822b5ad3a39a",
   "metadata": {},
   "outputs": [],
   "source": [
    "print(f\"DataFrame returns {bikes_hdf.count()} record(s)\")"
   ]
  },
  {
   "cell_type": "markdown",
   "id": "d0363ae1-4357-4a25-8dd8-a9219ce10725",
   "metadata": {},
   "source": [
    "But if you are familiar with Pandas dataframes, then typically you want to understand both: numbers of rows and columns in a dataframe. With HANA DataFrame you use [an attribute `shape`](https://help.sap.com/doc/cd94b08fe2e041c2ba778374572ddba9/2022_4_QRC/en-US/hana_ml.dataframe.html#hana_ml.dataframe.DataFrame.shape) for the same."
   ]
  },
  {
   "cell_type": "code",
   "execution_count": null,
   "id": "3a6bf6de-72e0-4d87-bb3d-235ad2d10e7c",
   "metadata": {},
   "outputs": [],
   "source": [
    "bikes_hdf.shape()"
   ]
  },
  {
   "cell_type": "markdown",
   "id": "13bf61cc-5dec-4e44-9149-6cadd6b13e7b",
   "metadata": {},
   "source": [
    "So, there are 12 columns. [The property `columns`](https://help.sap.com/doc/cd94b08fe2e041c2ba778374572ddba9/2022_4_QRC/en-US/hana_ml.dataframe.html#hana_ml.dataframe.DataFrame.columns) returns their names."
   ]
  },
  {
   "cell_type": "code",
   "execution_count": null,
   "id": "a4528da9-1f6d-4472-97f7-b226a4210ef5",
   "metadata": {},
   "outputs": [],
   "source": [
    "bikes_hdf.columns"
   ]
  },
  {
   "cell_type": "markdown",
   "id": "ec4ba27c-1940-45a9-abcd-5dcf6a998f0c",
   "metadata": {},
   "source": [
    "To get SQL types of the columns use [the method `dtypes()`](https://help.sap.com/doc/cd94b08fe2e041c2ba778374572ddba9/2022_4_QRC/en-US/hana_ml.dataframe.html#hana_ml.dataframe.DataFrame.dtypes)..."
   ]
  },
  {
   "cell_type": "code",
   "execution_count": null,
   "id": "22415834-5faa-4d3e-84df-385c4758855f",
   "metadata": {},
   "outputs": [],
   "source": [
    "bikes_hdf.dtypes()"
   ]
  },
  {
   "cell_type": "markdown",
   "id": "7b8ab500-7065-4841-9418-3bd23a9bbbf2",
   "metadata": {},
   "source": [
    "...for example to return a list of columns, which SQL data type is [`NVARCHAR`](https://help.sap.com/docs/HANA_CLOUD_DATABASE/c1d3f60099654ecfb3fe36ac93c121bb/a33f7884b0c14c00b1a76ecd8af5feca.html?locale=en-US&version=2022_4_QRC)."
   ]
  },
  {
   "cell_type": "code",
   "execution_count": null,
   "id": "d8a5e57c-881e-40d6-9e6a-b0200b6c53a7",
   "metadata": {},
   "outputs": [],
   "source": [
    "[col[0] for col in bikes_hdf.datatypes() if col[1]=='NVARCHAR']"
   ]
  },
  {
   "cell_type": "markdown",
   "id": "c4d67641-b087-4f2a-863a-9ff3dd272918",
   "metadata": {},
   "source": [
    "In the next step you usally want to look at a few records of the data. At the end of the notebook from Week 2 you used [Pandas method `head()`](https://pandas.pydata.org/docs/reference/api/pandas.DataFrame.head.html#pandas.DataFrame.head) to return ten first records from the Pandas DataFrame..."
   ]
  },
  {
   "cell_type": "code",
   "execution_count": null,
   "id": "eddf23b3-8c60-4029-92da-5004a23882cd",
   "metadata": {},
   "outputs": [],
   "source": [
    "bikes_hdf.collect().head(10)"
   ]
  },
  {
   "cell_type": "markdown",
   "id": "3ad816aa-4bb5-47e3-ab3d-8d04fc59128e",
   "metadata": {},
   "source": [
    "...but this method was applied after `collect()`, when **all** 731 records from HANA table where read into a Python client. With a few hundreds of records it was still Ok, but it would be expensive with tables containing hundreds of thousands of records.\n",
    "\n",
    "When working with the data stored in a database you should push processing down to the database and have only results returned to the client.\n",
    "\n",
    "HANA DataFrame has [similar `head()` method](https://help.sap.com/doc/cd94b08fe2e041c2ba778374572ddba9/2022_4_QRC/en-US/hana_ml.dataframe.html#hana_ml.dataframe.DataFrame.head)..."
   ]
  },
  {
   "cell_type": "code",
   "execution_count": null,
   "id": "9a8d17ec-dfeb-434d-8bca-173c8ca97213",
   "metadata": {},
   "outputs": [],
   "source": [
    "bikes_hdf.head(10).collect()"
   ]
  },
  {
   "cell_type": "markdown",
   "id": "ca412270-99e8-4547-9fed-f23ab43b967d",
   "metadata": {},
   "source": [
    "...but this time these 10 records are selected from a table already in the database using `TOP X` syntax of SQL `SELECT` statement; and only these 10 records are returned to the client."
   ]
  },
  {
   "cell_type": "code",
   "execution_count": null,
   "id": "e1603209-beb6-4a83-9424-e465af7fecaf",
   "metadata": {},
   "outputs": [],
   "source": [
    "bikes_hdf.head(10).sql_statement"
   ]
  },
  {
   "cell_type": "markdown",
   "id": "3e179743-dc0e-43ba-954e-2de83af94bf3",
   "metadata": {},
   "source": [
    "Similarly to Pandas a HANA DataFrame provides [a `tail()` method](https://help.sap.com/doc/cd94b08fe2e041c2ba778374572ddba9/2022_4_QRC/en-US/hana_ml.dataframe.html#hana_ml.dataframe.DataFrame.tail), but allows you to provide a reference column `ref_col` accordingly to which a dataset should be sorted before the last X (in this example **5**) records are selected in the database and returned to a client."
   ]
  },
  {
   "cell_type": "code",
   "execution_count": null,
   "id": "e145a489-3945-41d6-9cd3-07e58f0182a7",
   "metadata": {
    "tags": []
   },
   "outputs": [],
   "source": [
    "bikes_hdf.tail(5, ref_col='days_since_2012').collect()"
   ]
  },
  {
   "cell_type": "markdown",
   "id": "053565d6-09fb-4ae8-be1d-ba99ea80c7c3",
   "metadata": {},
   "source": [
    "As `SELECT` statement in SQL does not provide equivalent to `TOP` syntax to return bottom records, the SELECT statement generated for you by `hana-ml` package is more complex than the one for the `head()`."
   ]
  },
  {
   "cell_type": "code",
   "execution_count": null,
   "id": "8e50ada1-0ff4-4656-af3d-d2e17b2b540f",
   "metadata": {
    "tags": []
   },
   "outputs": [],
   "source": [
    "bikes_hdf.tail(5, ref_col='days_since_2011').select_statement"
   ]
  },
  {
   "cell_type": "markdown",
   "id": "c349edbc-a398-4c6c-b1e3-4bd7bca94863",
   "metadata": {},
   "source": [
    "Typically for Machine Learning scenarios you want to analyze, if a dataset contains `NULL` values, which might decrease the quality of data analysis or ML models created. Use [a method `hasna()`](https://help.sap.com/doc/cd94b08fe2e041c2ba778374572ddba9/2022_4_QRC/en-US/hana_ml.dataframe.html#hana_ml.dataframe.DataFrame.hasna) to check NULL values in a HANA DataFrame..."
   ]
  },
  {
   "cell_type": "code",
   "execution_count": null,
   "id": "b58aff9a-8fb6-49bc-928c-b8daed6dcec4",
   "metadata": {},
   "outputs": [],
   "source": [
    "bikes_hdf.hasna()"
   ]
  },
  {
   "cell_type": "markdown",
   "id": "18a353c4-f13f-4176-9717-482d8e9c9f07",
   "metadata": {},
   "source": [
    "...or in particular DataFrame's columns:"
   ]
  },
  {
   "cell_type": "code",
   "execution_count": null,
   "id": "eaaa0e62-a92d-4c7d-8b87-1b4c66087e0e",
   "metadata": {},
   "outputs": [],
   "source": [
    "for col in bikes_hdf.columns:\n",
    "    print(f\"NULLs in {col}: {bikes_hdf.hasnull(col)}\")"
   ]
  },
  {
   "cell_type": "markdown",
   "id": "6d6d9320-36a5-4606-8d76-abf1b4675a75",
   "metadata": {},
   "source": [
    "Generate descriptive statistics in database. [A method `describe()`](https://help.sap.com/doc/cd94b08fe2e041c2ba778374572ddba9/2022_4_QRC/en-US/hana_ml.dataframe.html#hana_ml.dataframe.DataFrame.describe) returns a DataFrame that contains various statistics for the requested column(s) or the complete DataFrame."
   ]
  },
  {
   "cell_type": "code",
   "execution_count": null,
   "id": "f72e2162-dd4d-4910-8ce9-ac98cbfef29d",
   "metadata": {},
   "outputs": [],
   "source": [
    "bikes_hdf.describe().collect()"
   ]
  },
  {
   "cell_type": "markdown",
   "id": "cd8ee88e-c9b8-424c-a423-ee4c42ae024a",
   "metadata": {},
   "source": [
    "A method `describe()` returns a HANA DataFrame, that's why you had to use `collect()` in the previous cell.\n",
    "\n",
    "You can see an SQL statement of the HANA Frame generated by the `describe()`."
   ]
  },
  {
   "cell_type": "code",
   "execution_count": null,
   "id": "dbe9c4b8-ef7f-4b90-b240-d0f2cfd33790",
   "metadata": {
    "tags": []
   },
   "outputs": [],
   "source": [
    "bikes_hdf.describe().select_statement"
   ]
  },
  {
   "cell_type": "markdown",
   "id": "42294b45-c788-448d-b893-bfbc3c147608",
   "metadata": {},
   "source": [
    "LEt's get back to the results returned by `bikes_hdf.describe().collect()` above.\n",
    "\n",
    "As tested before with `hasna()` method, you can confirm there are no NULL values in any column, because `nulls` column in the describe's result contains only `0`. "
   ]
  },
  {
   "cell_type": "markdown",
   "id": "f9980097-c5ce-49d3-81de-771e8ada76df",
   "metadata": {},
   "source": [
    "### Closer look at properties of columns in a dataframe\n",
    "\n",
    "Check statistics only for columns storing strings (SQL data type `NVARCHAR`)."
   ]
  },
  {
   "cell_type": "code",
   "execution_count": null,
   "id": "ef670299-55e3-4633-b43c-2129e1840eb5",
   "metadata": {},
   "outputs": [],
   "source": [
    "bikes_hdf.describe([col[0] for col in bikes_hdf.dtypes() if col[1]=='NVARCHAR']).collect().dropna(axis=1,how='all')"
   ]
  },
  {
   "cell_type": "markdown",
   "id": "4fbbf5e1-c5db-446f-8e82-1032a29ba347",
   "metadata": {},
   "source": [
    "To increase a readability of such long lines of chained methods it is good to follow the recommendation:\n",
    "> Long lines can be broken over multiple lines by wrapping expressions in parentheses.\n",
    "\n",
    "from [PEP 8 \"Style Guide for Python Code\"](https://peps.python.org/pep-0008/#maximum-line-length)."
   ]
  },
  {
   "cell_type": "code",
   "execution_count": null,
   "id": "10b91f49-b821-4f4b-82c4-f9b883179ca7",
   "metadata": {},
   "outputs": [],
   "source": [
    "(bikes_hdf\n",
    " .describe([col[0] for col in bikes_hdf.dtypes() if col[1]='NVARCHAR'])\n",
    " .collect()\n",
    "# .dropna(axis=1,how='all') # uncomment this line to see the difference\n",
    " .set_index('column')\n",
    ")"
   ]
  },
  {
   "cell_type": "markdown",
   "id": "7df8e440-1e7a-46cc-9540-50024db1c255",
   "metadata": {},
   "source": [
    "There are 4 unique values in the `season` column. Check them using [a `distinct()` method](https://help.sap.com/doc/cd94b08fe2e041c2ba778374572ddba9/2022_4_QRC/en-US/hana_ml.dataframe.html#hana_ml.dataframe.DataFrame.distinct), and -- as expected -- you should get four season names."
   ]
  },
  {
   "cell_type": "code",
   "execution_count": null,
   "id": "ed35746a-25b6-4cdd-8366-acbc5a620bc9",
   "metadata": {},
   "outputs": [],
   "source": [
    "bikes_hdf.distinct(cols='season').collect()"
   ]
  },
  {
   "cell_type": "markdown",
   "id": "0ea9fe1f-24c0-4a62-883b-5ccca27d752d",
   "metadata": {},
   "source": [
    "As cardinality of each of those columns storing stings is low (12 unique values at the most). Let's list all values for all of those columns."
   ]
  },
  {
   "cell_type": "code",
   "execution_count": null,
   "id": "6be26dac-7d77-4b2b-9a47-de9ca2eb0b9d",
   "metadata": {},
   "outputs": [],
   "source": [
    "for column in [col[0] for col in bikes_hdf.dtypes() if col[1]=='NVARCHAR']:\n",
    "    print(f\"{column}: {bikes_hdf.distinct(column).collect().iloc[:,0].tolist()}\")"
   ]
  },
  {
   "cell_type": "markdown",
   "id": "e104979a-6aa0-4a63-966f-80e0bee00764",
   "metadata": {},
   "source": [
    "For example, there are only 3 values in `weathersit` describig a weather situation.\n",
    "\n",
    "Check how often each weather situation occurs in the dataframe using [a `value_counts()` method](https://help.sap.com/doc/cd94b08fe2e041c2ba778374572ddba9/2022_4_QRC/en-US/hana_ml.dataframe.html#hana_ml.dataframe.DataFrame.value_counts). Note that it can only accept a list `[]` of column, even if the list contains only one column."
   ]
  },
  {
   "cell_type": "code",
   "execution_count": null,
   "id": "8ff8e9b8-2ff9-43ec-9289-6fb279cc1e8f",
   "metadata": {},
   "outputs": [],
   "source": [
    "bikes_hdf.value_counts(['weathersit']).collect()"
   ]
  },
  {
   "cell_type": "markdown",
   "id": "52be2358-c0b0-4c9d-b79a-1e8a7dc0de44",
   "metadata": {},
   "source": [
    "Now check basic characteristics of numeric values in columns."
   ]
  },
  {
   "cell_type": "code",
   "execution_count": null,
   "id": "74711d7b-ccce-49f5-aa04-e1baa426bf9e",
   "metadata": {},
   "outputs": [],
   "source": [
    "(bikes_hdf\n",
    " .describe([col[0] for col in bikes_hdf.dtypes() if col[1]!='NVARCHAR'])\n",
    " .collect()\n",
    " .iloc[:,:9]\n",
    " .set_index('column')\n",
    ")"
   ]
  },
  {
   "cell_type": "markdown",
   "id": "292de3c4-9a24-44f3-b98e-a67f7ae6ac60",
   "metadata": {},
   "source": [
    "What you can read from these values?\n",
    "\n",
    "1. Year column `yr` contains only 2 different values. Min is `2011` and max is `2012`, so the dataframe contains data for two years: 2011 and 2012.\n",
    "1. A column `days_since_2011` contains 731 unique values in 731 records, so each record represents data for one day.\n",
    "1. Min value for that column is `0` and the max is `730`, so we have values for 731 consequtive days, starting from 2011-01-01.\n",
    "1. A column `cnt` stores a number of bike rentals per day.\n",
    "1. A temperature `temp` range between -5.2 and 32.5 should be in degrees Celcius.\n",
    "1. A `hum` is a humidity percentage, although min value of 0% must be a mistake in data.| "
   ]
  },
  {
   "cell_type": "code",
   "execution_count": null,
   "id": "bec6bed7-1b80-4581-88a8-ef99679676b6",
   "metadata": {},
   "outputs": [],
   "source": [
    "bikes_hdf.value_counts(subset='yr').collect()"
   ]
  },
  {
   "cell_type": "markdown",
   "id": "ed5b364d-d12d-45b0-b4e3-c36316c8fe70",
   "metadata": {},
   "source": [
    "For continues, and not discrete, values (like `hum`) binning is more appropriate in the process of data exploration. Use [a `bin` method](https://help.sap.com/doc/cd94b08fe2e041c2ba778374572ddba9/2022_4_QRC/en-US/hana_ml.dataframe.html#hana_ml.dataframe.DataFrame.bin) for that."
   ]
  },
  {
   "cell_type": "code",
   "execution_count": null,
   "id": "389acb1e-52b5-4b16-9fb5-1c38e5877113",
   "metadata": {},
   "outputs": [],
   "source": [
    "(bikes_hdf\n",
    " .select('hum').sort('hum')\n",
    " .bin('hum', strategy='uniform_numbers', bins=10)\n",
    " .collect()\n",
    ")"
   ]
  },
  {
   "cell_type": "markdown",
   "id": "29d4531e-96e0-4617-af6d-1658029540d8",
   "metadata": {},
   "source": [
    "Indeed `0.0000` humidity percentage should be an outlier, for example wrong data recorded..."
   ]
  },
  {
   "cell_type": "code",
   "execution_count": null,
   "id": "88fdbbb8-ae08-4959-b560-3c50fd5aa766",
   "metadata": {},
   "outputs": [],
   "source": [
    "(bikes_hdf\n",
    " .select('hum').sort('hum')\n",
    " .bin('hum', strategy='uniform_number', bins=10)\n",
    " .value_counts(subset=['BIN_NUMBER'])\n",
    " .collect().set_index('VALUES')\n",
    ")"
   ]
  },
  {
   "cell_type": "markdown",
   "id": "ac5c71f5-1e83-481c-8aea-d82a326616f1",
   "metadata": {},
   "source": [
    "...and it is the only value in the 1st bin. Most of the values are in bins 6, 7 and 8 (so between 50% and 80% humidity).\n",
    "\n",
    "It would be the best to support such analysis visually, but **this is the topic for next Week 4**."
   ]
  },
  {
   "cell_type": "markdown",
   "id": "c37cb134-9c63-4401-aede-8907fb4fde3c",
   "metadata": {},
   "source": [
    "## 2. Understand the data\n",
    "\n",
    "Let's look at how HANA DataFrames support filtering (selecting rows), projection (selecting columns), and joining (combining datasets) -- basic [relational operations](https://en.wikipedia.org/wiki/Relational_model#Relational_operations) on tabular data stored in SAP HANA tables."
   ]
  },
  {
   "cell_type": "markdown",
   "id": "1672bd61-7fa7-4110-b13a-440ca9a9bb57",
   "metadata": {},
   "source": [
    "### Filtering\n",
    "\n",
    "Use [a `filter()` method](https://help.sap.com/doc/cd94b08fe2e041c2ba778374572ddba9/2022_4_QRC/en-US/hana_ml.dataframe.html#hana_ml.dataframe.DataFrame.filter) to return only rows that match the given condition.\n",
    "\n",
    "A `condition` parameter is included into the generated SQL SELECT statement, so you need to pay attention to names of [identifiers](https://help.sap.com/docs/HANA_CLOUD_DATABASE/c1d3f60099654ecfb3fe36ac93c121bb/209f5020751910148fd8fe88aa4d79d9.html#identifiers) (here: column names). In SAP HANA database:\n",
    "> \"[*Identifiers without double-quotes in SQL syntax are converted to upper case when processed by the server.*](https://help.sap.com/docs/HANA_CLOUD_DATABASE/c1d3f60099654ecfb3fe36ac93c121bb/209f5020751910148fd8fe88aa4d79d9.html#identifiers-and-case-sensitivity)\""
   ]
  },
  {
   "cell_type": "code",
   "execution_count": null,
   "id": "7a230183-216d-4bae-8b2e-6696c74b9fdc",
   "metadata": {
    "tags": []
   },
   "outputs": [],
   "source": [
    "bikes_hdf.filter(condition='\"yr\"=2011').count()"
   ]
  },
  {
   "cell_type": "markdown",
   "id": "a22b0165-34ab-45bd-8491-583345ff4879",
   "metadata": {},
   "source": [
    "You need to be careful with quotation marks used to delimit Python strings and used for SAP HANA SQL within Python strings.\n",
    "\n",
    "In Python:\n",
    "> \"[*Both types of literals can be enclosed in matching single quotes (') or double quotes (\"). ... The backslash (\\) character is used to escape characters that otherwise have a special meaning, such as newline, backslash itself, or the quote character.*](https://docs.python.org/3/reference/lexical_analysis.html#string-and-bytes-literals)\"\n",
    "\n",
    "In SAP HANA database:\n",
    "> \"[*Single quotation marks are used to delimit string literals. ... Double quotation marks are used to delimit identifiers. ...*](https://help.sap.com/docs/HANA_CLOUD_DATABASE/c1d3f60099654ecfb3fe36ac93c121bb/209f5020751910148fd8fe88aa4d79d9.html#quotation-marks)\""
   ]
  },
  {
   "cell_type": "code",
   "execution_count": null,
   "id": "da2e4313-0ebd-48a2-84ed-1538d0017cf4",
   "metadata": {
    "tags": []
   },
   "outputs": [],
   "source": [
    "bikes_hdf.filter('yr=2011 AND \"holiday\"=\\'HOLIDAY\\'').collect()"
   ]
  },
  {
   "cell_type": "markdown",
   "id": "a9996243-170d-4a6d-a516-cb74449769aa",
   "metadata": {},
   "source": [
    "### Projection\n",
    "\n",
    "Use [a `select()` method](https://help.sap.com/doc/cd94b08fe2e041c2ba778374572ddba9/2022_4_QRC/en-US/hana_ml.dataframe.html#hana_ml.dataframe.DataFrame.select) to return only columns you want to have in the result HANA DataFrame."
   ]
  },
  {
   "cell_type": "code",
   "execution_count": null,
   "id": "969ea27d-c76a-4b82-814e-f227306d5935",
   "metadata": {
    "tags": []
   },
   "outputs": [],
   "source": [
    "(bikes_hdf\n",
    " .filter('\"yr\"=2011 AND \"holiday\"='HOLIDAY'')\n",
    " .select('weekday', 'days_since_2011')\n",
    " .collect()\n",
    ")"
   ]
  },
  {
   "cell_type": "markdown",
   "id": "f4cd3ace-7125-4d34-a048-774c3d2e8e70",
   "metadata": {},
   "source": [
    "A `select()` method can be used to derive new columns from existing when provided as a tuple `(<SQL expression>, <alias>)`.\n",
    "\n",
    "In the example below a new column `calday` is calculated using [the SAP HANA SQL `ADD_DAYS` function](https://help.sap.com/docs/HANA_CLOUD_DATABASE/c1d3f60099654ecfb3fe36ac93c121bb/20da5fa8751910148969da2572b25ed8.html?version=2022_4_QRC&locale=en-US) to add number from the `\"days_since_2011\"` column to the date `2011-01-01`."
   ]
  },
  {
   "cell_type": "code",
   "execution_count": null,
   "id": "ab3f2058-dd63-4868-a749-c5534c3a3b65",
   "metadata": {
    "tags": []
   },
   "outputs": [],
   "source": [
    "(bikes_hdf\n",
    " .filter('\"yr\"=2011 AND \"holiday\"=\\'HOLIDAY\\'')\n",
    " .select('weekday', ('ADD_DAYS(\\'2011-01-01\\',\"days_since_2011\")', 'calday'))\n",
    " .collect()\n",
    ")"
   ]
  },
  {
   "cell_type": "markdown",
   "id": "b7447922-7172-4bf3-8638-ef51432484e5",
   "metadata": {},
   "source": [
    "Based on the holiday dates returned you can deduct they are [US Federal Holidays 2011](https://www.calendarpedia.com/holidays/federal-holidays-2011.html).\n",
    "\n",
    "Note that if you create a new HANA DataFrame `bikebydays_hdf` that has all columns (`'*'`) from the original dataframe `bikes_hdf` plus a derived column `calday`, no database object is created in SAP HANA."
   ]
  },
  {
   "cell_type": "code",
   "execution_count": null,
   "id": "69b4dd84-7f67-42b1-af1b-17f8e6a304fc",
   "metadata": {},
   "outputs": [],
   "source": [
    "bikebydays_hdf=bikes_hdf.select('*', ('add_days(\\'2011-01-01\\',\"days_since_2011\")', 'calday'))"
   ]
  },
  {
   "cell_type": "markdown",
   "id": "6361da78-5946-4fec-bc02-33cdef9e4807",
   "metadata": {},
   "source": [
    "This HANA DataFrame exists only in the scope of a Python session and stores an SQL SELECT statement used to query data from its connection to an SAP HANA database."
   ]
  },
  {
   "cell_type": "code",
   "execution_count": null,
   "id": "56e772a5-f23b-4aae-8d77-b1acf1abc7c5",
   "metadata": {},
   "outputs": [],
   "source": [
    "bikebydays_hdf.select_statement"
   ]
  },
  {
   "cell_type": "markdown",
   "id": "48e0113e-6e4b-4a93-9c73-4db231ef2d1a",
   "metadata": {},
   "source": [
    "Use this HANA DataFrame `bikebydays_hdf` to query holidays in 2012."
   ]
  },
  {
   "cell_type": "code",
   "execution_count": null,
   "id": "8c33bdc5-228c-44b0-8850-5194cf7d1d7d",
   "metadata": {
    "tags": []
   },
   "outputs": [],
   "source": [
    "(bikebydays_hdf\n",
    " .filter('\"yr\"=2012 AND \"holiday\"=\\'HOLIDAY\\'')\n",
    " .select('weekday', 'caldate')\n",
    " .collect()\n",
    ")"
   ]
  },
  {
   "cell_type": "markdown",
   "id": "21cef34d-6f17-409f-821c-07e5eec6ffda",
   "metadata": {},
   "source": [
    "Find days with the smallest numbers of bike rentals."
   ]
  },
  {
   "cell_type": "code",
   "execution_count": null,
   "id": "c77e4bd5-3eee-4501-9c2d-b9692c6376b0",
   "metadata": {},
   "outputs": [],
   "source": [
    "bikebydays_hdf.deselect('days_since_2011').sort(cols='cnt', desc=False).head(5).collect()"
   ]
  },
  {
   "cell_type": "markdown",
   "id": "1ba24071-ee16-4a17-9b29-e59f5fc8a31d",
   "metadata": {},
   "source": [
    "What is the smallest count of bikes rented during one day?\n",
    "\n",
    "`Edit this markdown cell and type your answer:`"
   ]
  },
  {
   "cell_type": "markdown",
   "id": "6b1590f7-86e8-4183-a3fc-1eee8b1ebd42",
   "metadata": {},
   "source": [
    "### Joining\n",
    "\n",
    "Let's check summer months of 2012.\n",
    "\n",
    "Please note tripple single quotes used by Python string. You do not need to use escape character `\\` in front of single qoutes of HANA's string of `'SUMMER'` in such case."
   ]
  },
  {
   "cell_type": "code",
   "execution_count": null,
   "id": "8667103d-7671-4923-ab42-d722bcf3d500",
   "metadata": {},
   "outputs": [],
   "source": [
    "bikes_hdf.filter('''\n",
    "\"season\"='SUMMER' AND \"yr\"=2012\n",
    "''').distinct('mnth').collect()"
   ]
  },
  {
   "cell_type": "raw",
   "id": "b762a349-a29b-4a50-a62e-b36af07f5767",
   "metadata": {},
   "source": [
    "Summer months are June, July, August and ...September. How come?\n",
    "\n",
    "Check min and max calendar days of each of these month of the SUMMER season."
   ]
  },
  {
   "cell_type": "code",
   "execution_count": null,
   "id": "40b36617-0044-4a64-aef3-288a18bf8282",
   "metadata": {},
   "outputs": [],
   "source": [
    "(bikebydays_hdf.filter('''\n",
    "\"season\"='SUMMER' AND \"yr\"=2012\n",
    "''')\n",
    " .agg(\n",
    "     [('min', 'calday', 'MIN'),\n",
    "      ('mix', 'calday', 'MAX')], \n",
    "     group_by=['mnth']\n",
    " )\n",
    " .collect()\n",
    ")"
   ]
  },
  {
   "cell_type": "markdown",
   "id": "658459bf-deb6-4765-a5a5-83d8baf99fac",
   "metadata": {},
   "source": [
    "Month are not ordered as you might used to see elsewhere. Let's use another table `MONTHS`, which you created during Week 2, to order these months accordingly to their `ID` number."
   ]
  },
  {
   "cell_type": "code",
   "execution_count": null,
   "id": "5c45d49d-ff64-4e61-a102-34d9aaee824a",
   "metadata": {},
   "outputs": [],
   "source": [
    "myconn.table('MONTHS').collect()"
   ]
  },
  {
   "cell_type": "markdown",
   "id": "de333a40-1ece-4604-ad2c-da8c54bb091e",
   "metadata": {},
   "source": [
    "In this last step this week, let's [join](https://help.sap.com/doc/cd94b08fe2e041c2ba778374572ddba9/2022_4_QRC/en-US/hana_ml.dataframe.html#hana_ml.dataframe.DataFrame.join) last two HANA DataFrames to order month by their `ID` from `MONTHS` table."
   ]
  },
  {
   "cell_type": "code",
   "execution_count": null,
   "id": "4bc2f3e5-48c9-4af1-b2f8-facb79b25123",
   "metadata": {
    "tags": []
   },
   "outputs": [],
   "source": [
    "bikebydays_hdf.filter('''\n",
    "\"season\"='SUMMER' AND \"yr\"=2012\n",
    "''')\n",
    " .agg(\n",
    "     [('min', 'calday', 'MIN'),\n",
    "      ('max', 'calday', 'MAX')], \n",
    "     group_by=['mnth']\n",
    " )\n",
    " .join(other=myconn.table('MONTHS'), condition='\"mnth\"=\"DESC\"', \n",
    "       select=['ID', ('DESC', 'MONTH'), 'MIN', 'MAX'])\n",
    " .sort('ID')\n",
    " .collect()\n",
    " .set_index('ID')\n"
   ]
  },
  {
   "cell_type": "markdown",
   "id": "2d763172-3da3-4164-9a36-37652f636bc2",
   "metadata": {},
   "source": [
    "So, in this dataset seasons are [astronomical seasons](https://en.wikipedia.org/wiki/Season#Astronomical), where summer of 2012 started on June 21st and ended on Sep 22.\n",
    "\n",
    "Well done! You've explored a lot of insights about data in the bikes rental dataset.\n",
    "\n",
    "During next Week 4 -- the last week of this challenge -- you will work with `hana-ml` provided visualization of data in SAP HANA database to discover more insights!\n",
    "\n",
    "### Stay tuned for the Week 4!"
   ]
  },
  {
   "cell_type": "code",
   "execution_count": null,
   "id": "5f1bd459-be97-4830-aa12-51812573a07f",
   "metadata": {},
   "outputs": [],
   "source": []
  }
 ],
 "metadata": {
  "kernelspec": {
   "display_name": "Python 3 (ipykernel)",
   "language": "python",
   "name": "python3"
  },
  "language_info": {
   "codemirror_mode": {
    "name": "ipython",
    "version": 3
   },
   "file_extension": ".py",
   "mimetype": "text/x-python",
   "name": "python",
   "nbconvert_exporter": "python",
   "pygments_lexer": "ipython3",
   "version": "3.10.9"
  }
 },
 "nbformat": 4,
 "nbformat_minor": 5
}
