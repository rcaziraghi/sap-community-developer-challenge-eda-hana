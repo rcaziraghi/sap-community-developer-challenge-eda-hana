{
 "cells": [
  {
   "cell_type": "markdown",
   "id": "b7bf3f9d-41f5-4bb5-aab8-2e1c10c5bdc9",
   "metadata": {},
   "source": [
    "This is a notebook for the Week 4 of the Developer Challenge: https://blogs.sap.com/2023/03/08/sap-community-developer-challenge-eda-with-sap-hana-and-python/\n",
    "\n",
    "Some code might be incomplete or incorrect. It is your task to fix it and execute the whole notebook receiving correct results.\n",
    "\n",
    "Submit the link to your solution: https://groups.community.sap.com/t5/application-development/submissions-for-quot-eda-with-sap-hana-quot-developer-challenge/m-p/227591/highlight/true#M1208"
   ]
  },
  {
   "cell_type": "markdown",
   "id": "bff2cf8d-ca40-4718-8e43-31b62f74581e",
   "metadata": {},
   "source": [
    "## Initialize the notebook\n",
    "\n",
    "Import required packages"
   ]
  },
  {
   "cell_type": "code",
   "execution_count": null,
   "id": "bf33b581-4619-41cc-8f78-63238a49e7a6",
   "metadata": {},
   "outputs": [],
   "source": [
    "from hanaml import dataframe as hdf\n",
    "import pandas as pd"
   ]
  },
  {
   "cell_type": "markdown",
   "id": "de6be667-feaf-4aab-87dd-18138f4def76",
   "metadata": {},
   "source": [
    "Connect to SAP HANA database instance with a database user, same as during Week 2!"
   ]
  },
  {
   "cell_type": "code",
   "execution_count": null,
   "id": "97d8f2ea-35a4-49a8-8d80-9ee0b845a12a",
   "metadata": {},
   "outputs": [],
   "source": [
    "myconn=hdf.ConnectionContext(userkey='DevChallenger')\n",
    "print(\"SAP HANA DB version: \", myconn.hana_version())"
   ]
  },
  {
   "cell_type": "code",
   "execution_count": null,
   "id": "b7960758-ec60-4303-b900-468874174b88",
   "metadata": {},
   "outputs": [],
   "source": [
    "print(myconn.sql(\"SELECT NOW() FROM DUMMY\").collect().CURRENT_TIMESTAMP[0])"
   ]
  },
  {
   "cell_type": "markdown",
   "id": "c726d83d-f22e-4502-a011-85c543f4bea7",
   "metadata": {},
   "source": [
    "## Check tables from Week 2 are available for this week's exercises\n",
    "\n",
    "You should see these 3 tables listed: `BIKES`, `MONTHS`, `SEASONS`. If not, then please complete the Week 2 first."
   ]
  },
  {
   "cell_type": "code",
   "execution_count": null,
   "id": "9c49f16a-ebe1-462f-86bc-d7785d413fc0",
   "metadata": {},
   "outputs": [],
   "source": [
    "myconn.get_tables()"
   ]
  },
  {
   "cell_type": "markdown",
   "id": "1c824543-552a-4be5-ae64-ed6a98cee9fe",
   "metadata": {},
   "source": [
    "During Week 2 you should have created HANA DataFrame `bikes_hdf` at the moment of loading a CSV file. As the table with data already existed in your database, a week ago you used [the `table()` method](https://help.sap.com/doc/cd94b08fe2e041c2ba778374572ddba9/2022_4_QRC/en-US/hana_ml.dataframe.html#hana_ml.dataframe.ConnectionContext.table) to create the HANA DataFrame as-is.\n",
    "\n",
    "This week use once again [a `select()` method](https://help.sap.com/doc/cd94b08fe2e041c2ba778374572ddba9/2022_4_QRC/en-US/hana_ml.dataframe.html#hana_ml.dataframe.DataFrame.select) to add a calculated column `CalDay`, but as well to rename and rearange all other columns to make them easier to read and interpret."
   ]
  },
  {
   "cell_type": "code",
   "execution_count": null,
   "id": "9fa527c5-ece9-4147-a56e-d469fce8ebe7",
   "metadata": {},
   "outputs": [],
   "source": [
    "bikes_hdf=myconn.table('BIKES').select(('\"days_since_2011\"', \"Days_Counter\"),\n",
    "                                        ('add_days(\\'2011-01-01\\',\"days_since_2011\")', \"CalDay\"),\n",
    "                                        ('\"yr\"', \"Year\"),\n",
    "                                        ('\"season\"', \"Season\"),\n",
    "                                        ('\"mnth\"', \"Month\"),\n",
    "                                        ('\"weekday\"', \"Weekday\"),\n",
    "                                        ('\"workingday\"', \"Is_WorkingDay\"),\n",
    "                                        ('\"holiday\"', \"Is_Holiday\"),\n",
    "                                        ('\"weathersit\"', \"Weather\"),\n",
    "                                        ('\"temp\"', \"Temperature\"),\n",
    "                                        ('hum', \"Humidity\"),\n",
    "                                        ('\"windspeed\"', \"Wind_Speed\"),\n",
    "                                        ('\"cnt\"', \"Bikes_Rented\")\n",
    "                                       )"
   ]
  },
  {
   "cell_type": "markdown",
   "id": "6c29004c-a00b-4581-bbdd-73d5f0b408f3",
   "metadata": {},
   "source": [
    "Execute the cell below as is with a question mark at the end `bikes_hdf.select?` to [see the help for the method](https://ipython.readthedocs.io/en/latest/interactive/python-ipython-diff.html#accessing-help)."
   ]
  },
  {
   "cell_type": "code",
   "execution_count": null,
   "id": "8c5b3e14-7300-40af-9131-74904614001c",
   "metadata": {
    "tags": []
   },
   "outputs": [],
   "source": [
    "bikes_hdf.select?"
   ]
  },
  {
   "cell_type": "code",
   "execution_count": null,
   "id": "6ca81eeb-9a2e-4462-b97c-4fdd4c58cde3",
   "metadata": {},
   "outputs": [],
   "source": [
    "bikes_hdf.select_statement"
   ]
  },
  {
   "cell_type": "code",
   "execution_count": null,
   "id": "950b2f33-beb7-44fe-868f-f90da2f725eb",
   "metadata": {},
   "outputs": [],
   "source": [
    "bikes_hdf.head(5).collect().set_index('days_since_2011')"
   ]
  },
  {
   "cell_type": "code",
   "execution_count": null,
   "id": "f84c002b-914e-4d1a-ba4f-686bcac96bba",
   "metadata": {},
   "outputs": [],
   "source": [
    "bikes_hdf.count()"
   ]
  },
  {
   "cell_type": "markdown",
   "id": "5ac848bf-48b8-43d4-8cc2-339f33b5d54a",
   "metadata": {
    "tags": []
   },
   "source": [
    "### Understand cells output"
   ]
  },
  {
   "cell_type": "markdown",
   "id": "afea15c8-cd59-453d-be74-4c6ed23da250",
   "metadata": {},
   "source": [
    "The [default output behavior](https://ipython.readthedocs.io/en/stable/config/options/terminal.html#configtrait-InteractiveShell.ast_node_interactivity) in a Jupyter notebook (with IPython kernel) is to show the evaluation result for the last expression in the cell."
   ]
  },
  {
   "cell_type": "code",
   "execution_count": null,
   "id": "ee4d983f-6465-4425-b009-5fdda6f73204",
   "metadata": {},
   "outputs": [],
   "source": [
    "from IPython.core.interactiveshell import InteractiveShell\n",
    "InteractiveShell.ast_node_interactivity.default_value"
   ]
  },
  {
   "cell_type": "markdown",
   "id": "5ebc4884-bf2b-48ae-b57e-1c7c17242898",
   "metadata": {},
   "source": [
    "That's why by default results are displayed when running a cell containing `bikes_hdf.count()` or `bikes_hdf.head(5).collect().set_index('Days_Counter')` without calling `display()`, like\n",
    "```\n",
    "display(bikes_hdf.head(5).collect().set_index('Days_Counter'))\n",
    "```\n",
    "or\n",
    "```\n",
    "display(bikes_hdf.count())\n",
    "```"
   ]
  },
  {
   "attachments": {},
   "cell_type": "markdown",
   "id": "25b46fa6-ad3d-4670-8e18-e8b133ddb6b0",
   "metadata": {},
   "source": [
    "# 1. Data Visualization using Pandas Plots\n",
    "\n",
    "As Pandas dataframes store results of HANA DataFrame's `collect()` execution, data from these results can be visulazied using Pandas' [built-in support for data visualization through charts with matplotlib](https://pandas.pydata.org/docs/ecosystem.html#ecosystem-visualization)."
   ]
  },
  {
   "cell_type": "code",
   "execution_count": null,
   "id": "fae3682e-cda2-4211-a979-14420889da81",
   "metadata": {},
   "outputs": [],
   "source": [
    "from matplotlib import pyplot as plt"
   ]
  },
  {
   "cell_type": "markdown",
   "id": "7862835d-106c-4656-9a26-8fdd0300da36",
   "metadata": {},
   "source": [
    "To get consistent output across different clients you might use (like Jupyter, VS Code, IPython etc) execute [the magic `%matplotlib inline`](https://ipython.readthedocs.io/en/stable/interactive/magics.html#magic-matplotlib) to have visualizations displayed within notebook's outputs."
   ]
  },
  {
   "cell_type": "code",
   "execution_count": null,
   "id": "a9aaff66-7b31-44d8-b430-6de582e2d625",
   "metadata": {},
   "outputs": [],
   "source": [
    "%matplotlib inline"
   ]
  },
  {
   "cell_type": "markdown",
   "id": "6ebb23f9-e0bf-407a-9b57-47b8a2812b43",
   "metadata": {},
   "source": [
    "As stayed at [the `matplotlib-inline` project's page](https://github.com/ipython/matplotlib-inline#usage):\n",
    "\n",
    "> _Note that in current versions of JupyterLab and Jupyter Notebook, the explicit use of the `%matplotlib inline` directive is not needed anymore, though other third-party clients may still require it._"
   ]
  },
  {
   "cell_type": "markdown",
   "id": "67e5a038-9fd8-4d22-93fd-891ffd62b8f8",
   "metadata": {},
   "source": [
    "If you are using JupyterLab, then `plt.show()` might not be necessarily at the end of each cell as it is called by default in that client as described in https://matplotlib.org/stable/api/_as_gen/matplotlib.pyplot.show.html#matplotlib-pyplot-show (or can be seen executing `plt.show?` in a notebook's cell):\n",
    "\n",
    "> **Auto-show in jupyter notebooks**\n",
    ">\n",
    "> _The jupyter backends (activated via `%matplotlib inline`, `%matplotlib notebook`, or `%matplotlib widget`), call `show()` at the end of every cell by default. Thus, you usually don't have to call it explicitly there._"
   ]
  },
  {
   "cell_type": "markdown",
   "id": "928a7e21-c920-4fb2-a4fa-d97dd778594f",
   "metadata": {},
   "source": [
    "Execute the cell below as-is (with a question mark at the end) `plt.show?` [see the help for the method](https://ipython.readthedocs.io/en/latest/interactive/python-ipython-diff.html#accessing-help)."
   ]
  },
  {
   "cell_type": "code",
   "execution_count": null,
   "id": "051b9d48-51cf-48c4-821a-9282a7f9e8c0",
   "metadata": {
    "tags": []
   },
   "outputs": [],
   "source": [
    "plt.show?"
   ]
  },
  {
   "cell_type": "markdown",
   "id": "788b73e6-4f1d-4c90-8a4d-e33dbc98013a",
   "metadata": {},
   "source": [
    "To be consistent with clients other than Jupyter that you might use here, `plt.show()` is included at the end of each cell with data visualization."
   ]
  },
  {
   "cell_type": "markdown",
   "id": "b00b2573-7990-4bdd-8f2c-9787158f95ad",
   "metadata": {},
   "source": [
    "## Foundations of plotting with Matplotlib"
   ]
  },
  {
   "cell_type": "markdown",
   "id": "5e16a9fc-9039-4d14-bd6d-b42513c06f57",
   "metadata": {},
   "source": [
    "The [basic `plot()` method's](https://pandas.pydata.org/docs/reference/api/pandas.DataFrame.plot.html#pandas-dataframe-plot) execution plots line charts for all dataframe's numeric columns into a single [axes](https://matplotlib.org/stable/api/axes_api.html) on a single [figure](https://matplotlib.org/stable/api/figure_api.html)."
   ]
  },
  {
   "cell_type": "code",
   "execution_count": null,
   "id": "324d4706-cd59-4153-872f-f34550a14ad9",
   "metadata": {},
   "outputs": [],
   "source": [
    "bikes_hdf.collect().plot()\n",
    "plt.show()"
   ]
  },
  {
   "attachments": {},
   "cell_type": "markdown",
   "id": "169f9800-e37f-4ba8-9e1c-b71d3620c7a1",
   "metadata": {},
   "source": [
    "A lot is going on on this figure, but there is very little to understand on the first sight. \n",
    "\n",
    "Let's unpack it to understnd and to improve later on.\n",
    "1. The horizontal axis X has a scale equal to the number of records in a dataframe used, in this case the max value on the axis is equal to `bikes_hdf.count()` or **731**.\n",
    "2. The vertical axis Y has a scale to accomodate all values from all numeric columns. In this case `Bikes_Rented` has values between 0 and **8000+**. It makes lines ploted for other columns, like `Humidity` with the scale between 0 and **100**, unreadable.\n",
    "3. Each column's values are ploted using a separate color. These colors are not random, but are coming from a default color cycler stored with a key `'axes.prop_cycle'` in [Runtime Configuration Parametes `rcParams`](https://matplotlib.org/stable/api/matplotlib_configuration_api.html#default-values-and-styling)."
   ]
  },
  {
   "attachments": {},
   "cell_type": "markdown",
   "id": "c519253f-8e13-480d-bb91-3d52da1d470d",
   "metadata": {},
   "source": [
    "#### Understand the default color cycler\n",
    "\n",
    "Code cells below will print hex codes from the default color cycler and display corresponding colors as a pie plot. \n",
    "\n",
    "Yes, the author of this notebook does like pie plots 🤓"
   ]
  },
  {
   "cell_type": "code",
   "execution_count": null,
   "id": "fb10e927-7377-46b5-b49c-aee838810847",
   "metadata": {},
   "outputs": [],
   "source": [
    "prop_cycle_default = plt.rcParams['axes.prop_cycle']"
   ]
  },
  {
   "cell_type": "code",
   "execution_count": null,
   "id": "70031720-74e8-465e-8f46-634421b059e3",
   "metadata": {},
   "outputs": [],
   "source": [
    "prop_cycle = plt.rcParams['axes.prop_cycle']\n",
    "colors = prop_cycle.by_key()['color']\n",
    "colors_df = pd.Series(data=[1]*len(colors), index=colors)\n",
    "display(colors_df)"
   ]
  },
  {
   "cell_type": "code",
   "execution_count": null,
   "id": "2d7b7072-b4f3-4f65-ab15-3658580ff685",
   "metadata": {},
   "outputs": [],
   "source": [
    "colors_df.plot(kind='pie', legend=True, figsize=(4,4))\n",
    "plt.show()"
   ]
  },
  {
   "cell_type": "markdown",
   "id": "33091822-928c-4fdd-aae4-d73f88eef333",
   "metadata": {},
   "source": [
    "The default order in Matplotlib's pie charts is counterclockwise starting from \"3 o'clock\" (or the \"right side\")."
   ]
  },
  {
   "cell_type": "markdown",
   "id": "29d77305-00b8-4d35-a95d-4f6557c0a6ed",
   "metadata": {},
   "source": [
    "#### Change color cycler to follow SAP Fiori branding\n",
    "\n",
    "Update the default cycler in this [kernel process](https://ipython.readthedocs.io/en/latest/development/how_ipython_works.html#the-ipython-kernel) to use secondary (_accent_) colors of the Belize theme from SAP Fiori: https://experience.sap.com/fiori-design-web/colors/#accent-colors"
   ]
  },
  {
   "cell_type": "code",
   "execution_count": null,
   "id": "1ee6fd91-b0f0-47e8-9f30-882590df25b8",
   "metadata": {},
   "outputs": [],
   "source": [
    "from cycler import cycler \n",
    "sap_fiori_belize_cycler = cycler(\n",
    "    color=['#0092D1', '#E09D00', '#1A9898', '#E6600D', '#925ACE', '#759421', '#678BC7', '#C14646', '#647987', '#AB218E']\n",
    ")\n",
    "\n",
    "plt.rc('axes', prop_cycle=sapgui_belize_cycler)"
   ]
  },
  {
   "cell_type": "code",
   "execution_count": null,
   "id": "82f78f0c-ed47-44ab-bbd8-c248290154f1",
   "metadata": {},
   "outputs": [],
   "source": [
    "prop_cycle = plt.rcParams['axes.prop_cycle']\n",
    "colors = prop_cycle.by_key()['color']\n",
    "colors_df = pd.Series(data=[1]*len(colors), index=colors)\n",
    "\n",
    "colors_df.plot(kind='pie', legend=True, figsize=4,4)\n",
    "plt.show()"
   ]
  },
  {
   "cell_type": "markdown",
   "id": "fc97397c-3298-47b8-9a56-dd8890d7e60d",
   "metadata": {},
   "source": [
    "## Plot something meaningful\n",
    "\n",
    "This time:\n",
    "1. Plot data for a number of rented bikes daily and a temperature. Please note, that first two colors (with indexes `0` and `1`) from the new color cycler should now be used.\n",
    "2. Set X axis to dates `x='CalDay'`.\n",
    "3. Use a separate (\"`secondary_y`\") axis for a temperature.\n",
    "4. Set bigger size for this figure: `figsize=(18, 6)`."
   ]
  },
  {
   "cell_type": "code",
   "execution_count": null,
   "id": "50cad201-1435-492f-a0e2-02bd22be1202",
   "metadata": {},
   "outputs": [],
   "source": [
    "(bikes_hdf\n",
    " .select('CalDay', 'Bikes_Rented', 'Temperature').collect()\n",
    " .plot(x='CalDay', secondary_x=['Temperature'], figsize=(18, 6))\n",
    ")\n",
    "plt.show()"
   ]
  },
  {
   "cell_type": "markdown",
   "id": "59fb0985-f252-4089-9acc-85ebbb2dfc4c",
   "metadata": {},
   "source": [
    "You should be able to see:\n",
    "1. seasonal cycles: temperatures and rentals are higher during summer, and lower during winter, but...\n",
    "2. ...rental is somewhat dropping when a temperature rises above ~25 degrees Celcius.\n",
    "3. There were less bicycles rented during the first summer, but that might be caused by a lower supply, i.e. a number of bikes provided during the first season. "
   ]
  },
  {
   "cell_type": "markdown",
   "id": "b2c2ab0c-ec9c-41aa-8bfd-0fb8aee13735",
   "metadata": {},
   "source": [
    "Set this figure size -- **18x6** inches -- as a new default for new figures in this notebook."
   ]
  },
  {
   "cell_type": "code",
   "execution_count": null,
   "id": "f8f7f81f-3fcf-48a3-9769-19a9882d559f",
   "metadata": {},
   "outputs": [],
   "source": [
    "figsize_default=plt.rcParams[\"figure.figsize\"]\n",
    "print(\"Previous default figure size was : \", figsize_default)\n",
    "plt.rcParams[\"figure.figsize\"] = (18, 6)\n",
    "print(\"Current default figure size is   : \", plt.rcParams[\"figure.figsize\"])"
   ]
  },
  {
   "cell_type": "markdown",
   "id": "b286ab2a-b01b-43e6-b298-404a091dd16b",
   "metadata": {},
   "source": [
    "Now, let's plot humidity and wind speed, but using next colors -- with indexes `2` and `3` -- from the current color cycler. \n",
    "\n",
    "A `\"Cn\"` color spec, i.e. `\"C\"` followed by a number, which is an index into the default property cycle starting from 0, as described in  https://matplotlib.org/stable/gallery/color/color_demo.html#color-demo."
   ]
  },
  {
   "cell_type": "code",
   "execution_count": null,
   "id": "2647ef92-d584-406f-8865-21a56152648c",
   "metadata": {},
   "outputs": [],
   "source": [
    "(bikes_hdf\n",
    " .select('CalDay', 'Humidity', 'Wind_Speed').collect()\n",
    " .plot(x='CalDay', secondary_y=['Humidity'], color=('c2','c3'))\n",
    ")\n",
    "plt.show()"
   ]
  },
  {
   "cell_type": "markdown",
   "id": "f4b6e011-4e11-4ee7-8068-e25b77d44343",
   "metadata": {},
   "source": [
    "## Scaterplots"
   ]
  },
  {
   "cell_type": "markdown",
   "id": "c90989fb-54c6-4be7-915a-9a360c3b16a4",
   "metadata": {},
   "source": [
    "Check correlation between a temperature and a number of bikes rented using [a `plot.scatter` Pandas dataframe method](https://pandas.pydata.org/pandas-docs/stable/reference/api/pandas.DataFrame.plot.scatter.html#pandas-dataframe-plot-scatter)."
   ]
  },
  {
   "cell_type": "code",
   "execution_count": null,
   "id": "8f54a3f8-9d82-466e-930c-cbdaf905d6e0",
   "metadata": {},
   "outputs": [],
   "source": [
    "(bikes_hdf\n",
    " .select('Bikes_Rented', 'Humidity', 'Temperature').collect()\n",
    " .plot.scatter(y='Bikes_Rented', x='Temperature')\n",
    ")\n",
    "plt.show()"
   ]
  },
  {
   "cell_type": "markdown",
   "id": "4faad8ca-6cf4-46f0-97af-44da958f83d2",
   "metadata": {},
   "source": [
    "You might notice a tendency that a number of rented bikes is growing with the temperature up to about +25C, but then it is becoming too hot and a number of bikes rented is dropping.\n",
    "\n",
    "Add color coding for humidity values."
   ]
  },
  {
   "cell_type": "code",
   "execution_count": null,
   "id": "06c86b17-fd64-4776-bab4-be1b6fb1a3c0",
   "metadata": {},
   "outputs": [],
   "source": [
    "(bikes_hdf\n",
    " .select('Bikes_Rented', 'Temperature', 'Humidity').collect()\n",
    " .plot.scater(y='Bikes_Rented', x='Temperature', c='Humidity')\n",
    ")\n",
    "plt.show()"
   ]
  },
  {
   "cell_type": "markdown",
   "id": "942cc3ce-fcc7-4a81-8891-517e7cdaa726",
   "metadata": {},
   "source": [
    "You might notice that:\n",
    "1. Colors for different values of the same column are not following the same color cycle as it was for different columns on charts above. Now a colorbar on the chart uses a colormap, by default it is `viridis`.\n",
    "2. For the same temperature measures numbers of bikes rented have a tendency to be on a lower side for the higher humidity."
   ]
  },
  {
   "cell_type": "markdown",
   "id": "0ed13232-0b7d-4f7b-b0af-96bd40a28c26",
   "metadata": {},
   "source": [
    "Now Matplotlib allows to use non-numberic columns for color-coding, but they must be converted to Pandas's [categoricals](https://pandas.pydata.org/docs/user_guide/categorical.html#categorical-data).\n",
    "\n",
    "Replace color coding to use a `Season` column. To avoid default monochrome colormap used for categorical data, explicitely specify a [colormap](https://pandas.pydata.org/docs/user_guide/visualization.html#colormaps) to be `viridis`."
   ]
  },
  {
   "cell_type": "code",
   "execution_count": null,
   "id": "4f35f0dc-ad50-478b-a720-12416ebba6c9",
   "metadata": {},
   "outputs": [],
   "source": [
    "(bikes_hdf\n",
    " .select('Bikes_Rented', 'Temperature', 'Season').collect().astype({\"Season\": 'category'})\n",
    " .plot.scatter(y='Bikes_Rented', x='Temperature', c='Season', \n",
    "               colormap='viridis' #try to comment this like to see the difference\n",
    "              )\n",
    ")\n",
    "plt.show()"
   ]
  },
  {
   "cell_type": "markdown",
   "id": "b73c1aa3-587e-4798-bb8a-08a38efdbbbb",
   "metadata": {},
   "source": [
    "Now do he same for a `Year` column."
   ]
  },
  {
   "cell_type": "code",
   "execution_count": null,
   "id": "015501b4-ec92-4220-8b49-dd7edb576c39",
   "metadata": {},
   "outputs": [],
   "source": [
    "(bikes_hdf\n",
    " .select('Bikes_Rented', 'Temperature', 'Year').collect().astype({\"Year\": 'category'})\n",
    " .plot.scatter(y='Bikes_Rented', x='Temperature', c='Year', colormap='Viridis')\n",
    ")\n",
    "plt.show()"
   ]
  },
  {
   "cell_type": "markdown",
   "id": "85552647-b2ab-4bde-ba4e-523195fe2be2",
   "metadata": {},
   "source": [
    "## Plot categorical data\n",
    "\n",
    "When analyzing categorical (not numerical columns) we usually analyze their values properties.\n",
    "\n",
    "Visualize how often each weather situation occured in the HANA DataFrame."
   ]
  },
  {
   "cell_type": "code",
   "execution_count": null,
   "id": "3884c678-1c18-4b75-9731-69536685a562",
   "metadata": {},
   "outputs": [],
   "source": [
    "weather_df=bikes_hdf.value_counts(['Weather']).collect().set_index('VALUES')\n",
    "display(weather_df)"
   ]
  },
  {
   "cell_type": "markdown",
   "id": "0399babd-e52a-49cb-8beb-1591d39c240f",
   "metadata": {},
   "source": [
    "Data scientists love to hate pie charts, so let's use them first 🤓"
   ]
  },
  {
   "cell_type": "code",
   "execution_count": null,
   "id": "bd5e6e05-de12-4ed9-b204-ae2d109c6884",
   "metadata": {},
   "outputs": [],
   "source": [
    "(weather_df\n",
    " .plot.pie(y = 'NUM_Weather')\n",
    ")\n",
    "plt.show()"
   ]
  },
  {
   "cell_type": "markdown",
   "id": "d3affff0-7107-4a13-8934-dbcb0edb22bb",
   "metadata": {},
   "source": [
    "There are a few good practices when using pie charts:\n",
    "1. Avoid using them for more than 3-5 categories.\n",
    "1. Segments should be sorted from the biggest to the smallest.\n",
    "2. Percentage values should be displayed to avoid guessing them by comparing angles of segments.\n",
    "3. A human eye usually starts from 12 o'clock (the top of a circle) and then goes clock-wise.\n",
    "4. Avoid unnecessary information, like having a legend on a figure."
   ]
  },
  {
   "cell_type": "code",
   "execution_count": null,
   "id": "acf5ed7d-c39f-4503-8397-1e2c997feaf4",
   "metadata": {},
   "outputs": [],
   "source": [
    "(weather_df\n",
    " .sort_values('NUM_Weather', ascending=False)\n",
    " .plot.pie(y = 'NUM_Weather', legend=False, \n",
    "        startangle=90, counterclock=False,\n",
    "        autopct='%.2f', pctdistance=0.75)\n",
    ")\n",
    "plt.show()"
   ]
  },
  {
   "cell_type": "markdown",
   "id": "ff86d339-89a3-49e1-82e4-33192797bcc5",
   "metadata": {},
   "source": [
    "As mentioned, data scientists love to hate pie charts, and many would say that [bar charts](https://pandas.pydata.org/docs/reference/api/pandas.DataFrame.plot.bar.html#pandas.DataFrame.plot.bar) should be used instead of pies."
   ]
  },
  {
   "cell_type": "code",
   "execution_count": null,
   "id": "418718dc-7ef3-46c5-be61-17ca1449f2c4",
   "metadata": {},
   "outputs": [],
   "source": [
    "weather_df.plot.bar()\n",
    "plt.show()"
   ]
  },
  {
   "cell_type": "markdown",
   "id": "0acc9efb-36b3-4b64-9fc2-4a2b2a4b733b",
   "metadata": {},
   "source": [
    "Some good practices apply to bar/column charts as well:\n",
    "1. Column charts should be used when category is related to the time, otherwise [horizontal bar charts](https://pandas.pydata.org/docs/reference/api/pandas.DataFrame.plot.barh.html#pandas-dataframe-plot-barh) should be used.\n",
    "2. Bars should be sorted either accordingly to their values or alphabetically by their names.\n",
    "3. Value labels should be displayed to avoid guessing their values from a scale."
   ]
  },
  {
   "cell_type": "code",
   "execution_count": null,
   "id": "1f627df4-d453-4365-9910-4853d36f4f22",
   "metadata": {},
   "outputs": [],
   "source": [
    "(weather_df\n",
    " .sort_values('NUM_Weather', ascending=False)\n",
    " .plot.barh(legend=False)\n",
    ")\n",
    "\n",
    "#Using text annotations to calculate positions and place values next to their corresponding bars\n",
    "for i in range(len(weather_df)):\n",
    "    plt.text(y = i, \n",
    "             x = weather_df.sort_values('NUM_Weather', ascending=False).NUM_Weather[i]+4, # x position\n",
    "             s = weather_df.sort_values('NUM_Weather', ascending=False).NUM_Weather[i],   # text to display\n",
    "             ha = 'left')\n",
    "plt.show()"
   ]
  },
  {
   "cell_type": "markdown",
   "id": "6de4eac4-25e5-4d22-911f-1255d18f76c3",
   "metadata": {},
   "source": [
    "# 2. Data Visulaization using `hana-ml` EDA\n",
    "\n",
    "So far you have created plots for data stored in a Pandas dataframe after being selected from a HANA DataFrame.\n",
    "\n",
    "Python Machine Learning Client for SAP HANA provides [the `hana_ml.visualizers` package](https://help.sap.com/doc/cd94b08fe2e041c2ba778374572ddba9/2022_4_QRC/en-US/hana_ml.visualizers.html#hana-ml-visualizers-package) with many pre-arranged specialized statistics visualizations that push down calculations to SAP HANA database and then visualize results in a client using either Matplotlib (default) or Plotly (experiemental).\n",
    "\n",
    "Most of capabilities from that package are not available in a trial environment (as of March 2023), so let's look at just a few example that are available in a trial."
   ]
  },
  {
   "cell_type": "code",
   "execution_count": null,
   "id": "1d87f95a-661d-47a6-828d-b8ccba176a64",
   "metadata": {},
   "outputs": [],
   "source": [
    "from hana_ml.visualizers.eda import EDAVisualizer"
   ]
  },
  {
   "cell_type": "markdown",
   "id": "2eab5b53-ded7-4a50-a7a1-ab44932b2476",
   "metadata": {},
   "source": [
    "[EDAVisualizer](https://help.sap.com/doc/cd94b08fe2e041c2ba778374572ddba9/2022_4_QRC/en-US/hana_ml.visualizers.html#hana_ml.visualizers.eda.EDAVisualizer) is `hana-ml`'s class for all EDA visualizations, including for example [pie plot](https://help.sap.com/doc/cd94b08fe2e041c2ba778374572ddba9/2022_4_QRC/en-US/hana_ml.visualizers.html#hana_ml.visualizers.eda.EDAVisualizer.pie_plot) or [bar plot](https://help.sap.com/doc/cd94b08fe2e041c2ba778374572ddba9/2022_4_QRC/en-US/hana_ml.visualizers.html#hana_ml.visualizers.eda.EDAVisualizer.bar_plot).\n",
    "\n",
    "For most of the plotting methods it returns Pandas dataframe with the data used in the plot as a second returned value (`df` in examples below)."
   ]
  },
  {
   "cell_type": "code",
   "execution_count": null,
   "id": "95cc63fc-bc78-4deb-a842-1f4c1b4f6975",
   "metadata": {},
   "outputs": [],
   "source": [
    "_, df = EDAVisualizer().pie_plot(data=bikes_hdf, column='Wether',\n",
    "                                 legend=False, explode=0, \n",
    "                                 startangle=90, counter_clock=False)\n",
    "plt.show()"
   ]
  },
  {
   "cell_type": "code",
   "execution_count": null,
   "id": "6ebf7c11-1e40-4f24-addb-d17508e4d3b6",
   "metadata": {},
   "outputs": [],
   "source": [
    "display(df)"
   ]
  },
  {
   "cell_type": "code",
   "execution_count": null,
   "id": "fadae85f-198c-4197-be24-36f6d1b4a5fa",
   "metadata": {},
   "outputs": [],
   "source": [
    "_, df = EDAvisualizer().bar_plot(data_hdf=bikes, column='Weather', aggregation={'Weather':'count'})\n",
    "plt.show()"
   ]
  },
  {
   "cell_type": "code",
   "execution_count": null,
   "id": "547b4102-736d-4f8f-a7c2-22f56c3f6790",
   "metadata": {},
   "outputs": [],
   "source": [
    "display(df)"
   ]
  },
  {
   "cell_type": "markdown",
   "id": "c16d6c9b-09c0-4698-a3dd-991040dd80db",
   "metadata": {},
   "source": [
    "# And that's it for now!\n",
    "\n",
    "Thank you for joining the challenge, we hope you learned something new.\n",
    "\n",
    "Please share your feedback and thoughts what else you would like to try in the comments to the https://blogs.sap.com/2023/03/08/sap-community-developer-challenge-eda-with-sap-hana-and-python/"
   ]
  },
  {
   "cell_type": "code",
   "execution_count": null,
   "id": "571e0c8f-6405-42ac-b395-b93dc1c1c245",
   "metadata": {},
   "outputs": [],
   "source": []
  }
 ],
 "metadata": {
  "kernelspec": {
   "display_name": "Python 3 (ipykernel)",
   "language": "python",
   "name": "python3"
  },
  "language_info": {
   "codemirror_mode": {
    "name": "ipython",
    "version": 3
   },
   "file_extension": ".py",
   "mimetype": "text/x-python",
   "name": "python",
   "nbconvert_exporter": "python",
   "pygments_lexer": "ipython3",
   "version": "3.10.10"
  }
 },
 "nbformat": 4,
 "nbformat_minor": 5
}
